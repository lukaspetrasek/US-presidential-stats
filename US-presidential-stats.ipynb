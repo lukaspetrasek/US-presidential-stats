{
 "cells": [
  {
   "cell_type": "markdown",
   "metadata": {},
   "source": [
    "# US presidential statistics\n",
    "## Simon Repko, Lukas Petrasek\n",
    "### IES FSS CU\n",
    "### 31.5.2019\n",
    "\n",
    "This notebook serves as a demonstration of a school project whose goal is to achieve the following:\n",
    "* scrape web pages to get historical data on US presidents\n",
    "* manipulate the data into a form suitable for being visualized\n",
    "* make vizualizations based the data"
   ]
  },
  {
   "cell_type": "code",
   "execution_count": null,
   "metadata": {},
   "outputs": [],
   "source": [
    "# TODO: import packages"
   ]
  },
  {
   "cell_type": "code",
   "execution_count": null,
   "metadata": {},
   "outputs": [],
   "source": [
    "import pandas as pd\n",
    "import requests\n",
    "from bs4 import BeautifulSoup"
   ]
  },
  {
   "cell_type": "code",
   "execution_count": null,
   "metadata": {},
   "outputs": [],
   "source": [
    "# TODO: initialize the scraping class and apply the methods necessary to get the data here"
   ]
  },
  {
   "cell_type": "code",
   "execution_count": null,
   "metadata": {},
   "outputs": [],
   "source": [
    "def getSoup(link):\n",
    "    response = requests.get(link) \n",
    "    return BeautifulSoup(response.text,'html.parser')\n",
    "\n",
    "def getjoinSoup(link):\n",
    "    html = \"\".join(['https://millercenter.org',link]) \n",
    "    response = requests.get(html)\n",
    "    return BeautifulSoup(response.text,'html.parser') \n",
    "\n",
    "def getDataMiller(dictionary):\n",
    "    data_presidents = {}\n",
    "    for name,href in dictionary.items():\n",
    "        # main loop: iterates names and link of presidents contained in previously created dictionary 'pres_dict'\n",
    "        # getting on the subsite of specific president\n",
    "        soup = getjoinSoup(href)\n",
    "\n",
    "        #1 extraction of FAST FACTS dashboard of specific president\n",
    "        details = soup.find('div',{'class':'president-main-wrapper'}).find('div',{'class':'fast-facts-wrapper'})   \n",
    "\n",
    "        list_of_relevant_details = [x for x in list(details.children) if x != '\\n'] # removing redundant elements \n",
    "        list_of_relevant_details.pop(0) # removing first div with decsription\n",
    "\n",
    "        fast_facts = {}\n",
    "        for det in list_of_relevant_details:\n",
    "            fast_facts[det.label.text] = det.div.text # for loop to load details and specifics into dict (key: label of detail)\n",
    "\n",
    "        #2 brief description of the president\n",
    "        brief_desc = {}\n",
    "        brief_desc['Description'] = soup.find('div',{'class':'copy-wrapper'}).p.text # short description of president\n",
    "\n",
    "        #3 famous quote of the president\n",
    "        quote = {}\n",
    "        quote['Quote'] = soup.find('blockquote',{'class':'president-quote'}).contents[0]\n",
    "\n",
    "        #4 number of KEY EVENTS that happened during office\n",
    "        # extracting url 'ending' for subsite with notable events that happened at time of office\n",
    "        key_events = soup.find('div',{'class':'sub-nav-region'}).find_all('a')[1] \n",
    "        soup_1 = getjoinSoup(key_events['href']) # getting into the list of key events of president\n",
    "\n",
    "        ke_count = {}\n",
    "        # count of number of major events that happened at time of office - key_events_count_X : ke_c_X  \n",
    "        # D. Trump page has no information about major events hence we included error exception   \n",
    "        # after some time they changed the notation when 'titles' are highlighted in bold\n",
    "        try:   \n",
    "            ke_c_1 = len(soup_1.find('div',{'class':'article-wysiwyg-body'}).find_all('strong')) # count of all events - highlighted by bolding\n",
    "            ke_c_2 = len(soup_1.find('div',{'class':'article-wysiwyg-body'}).find_all('b')) # notation change\n",
    "            ke_count['Number of major events'] = ke_c_1 + ke_c_2 # due to double 'bold' notation we sum the count\n",
    "        except AttributeError:\n",
    "            ke_count['Number of major events'] = 0\n",
    "            pass\n",
    "\n",
    "        data_presidents[name] = {**fast_facts,**brief_desc,**quote,**ke_count} #merge of the dictionaries\n",
    "        \n",
    "    return data_presidents"
   ]
  },
  {
   "cell_type": "code",
   "execution_count": null,
   "metadata": {},
   "outputs": [],
   "source": [
    "html = 'https://millercenter.org/'\n",
    "soup = getSoup(html) # Parsing of given html utilizing BeautifulSoup \n",
    "\n",
    "# Enter main navigation panel and find submenu that contains list of US presidents and following url 'ending' of their respective subsite\n",
    "# Select second list to aim for desired list and remove duplicates due to multiple similar/same lists in the whole html\n",
    "name_list = soup.find('nav',{'aria-labelledby':'block-mainnavigation-3-menu'}).find_all('ul',{'class':'submenu'})[1]\n",
    "\n",
    "pres_dict = {} # Creation of empty dictionary\n",
    "for pres in name_list.find_all('a'): \n",
    "    pres_dict[pres.text] = pres['href'] # extract and save names (key) and link 'endings' (value)"
   ]
  },
  {
   "cell_type": "code",
   "execution_count": null,
   "metadata": {},
   "outputs": [],
   "source": [
    "data_presidents = getDataMiller(pres_dict)\n",
    "\n",
    "# Final table with data extracted from https://millercenter.org\n",
    "pd.DataFrame(data_presidents)"
   ]
  },
  {
   "cell_type": "code",
   "execution_count": null,
   "metadata": {},
   "outputs": [],
   "source": [
    "# TODO: manipulate the data here"
   ]
  },
  {
   "cell_type": "code",
   "execution_count": null,
   "metadata": {},
   "outputs": [],
   "source": [
    "# TODO: make the visualizations here"
   ]
  },
  {
   "cell_type": "code",
   "execution_count": null,
   "metadata": {},
   "outputs": [],
   "source": [
    "# TODO: conclude here?"
   ]
  }
 ],
 "metadata": {
  "kernelspec": {
   "display_name": "Python 3",
   "language": "python",
   "name": "python3"
  },
  "language_info": {
   "codemirror_mode": {
    "name": "ipython",
    "version": 3
   },
   "file_extension": ".py",
   "mimetype": "text/x-python",
   "name": "python",
   "nbconvert_exporter": "python",
   "pygments_lexer": "ipython3",
   "version": "3.7.1"
  }
 },
 "nbformat": 4,
 "nbformat_minor": 2
}
