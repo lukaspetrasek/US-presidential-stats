{
 "cells": [
  {
   "cell_type": "markdown",
   "metadata": {},
   "source": [
    "# US presidential statistics\n",
    "## Simon Repko, Lukas Petrasek\n",
    "### IES FSS CU\n",
    "### 31.5.2019\n",
    "\n",
    "This notebook serves as a demonstration of a school project whose goal is to achieve the following:\n",
    "* scrape web pages to get historical data on US presidents\n",
    "* manipulate the data into a form suitable for being visualized\n",
    "* make vizualizations based the data"
   ]
  },
  {
   "cell_type": "code",
   "execution_count": null,
   "metadata": {},
   "outputs": [],
   "source": [
    "# TODO: import packages"
   ]
  },
  {
   "cell_type": "code",
   "execution_count": null,
   "metadata": {},
   "outputs": [],
   "source": [
    "import pandas as pd\n",
    "from bs4 import BeautifulSoup"
   ]
  },
  {
   "cell_type": "code",
   "execution_count": null,
   "metadata": {},
   "outputs": [],
   "source": [
    "# TODO: initialize the scraping class and apply the methods necessary to get the data here"
   ]
  },
  {
   "cell_type": "code",
   "execution_count": null,
   "metadata": {},
   "outputs": [],
   "source": [
    "response = requests.get('https://millercenter.org/')\n",
    "soup = BeautifulSoup(response.text,'html.parser')\n",
    "name_list_1 = soup.find('nav',{'aria-labelledby':'block-mainnavigation-3-menu'})\n",
    "name_list_2 = name_list_1.find_all('ul',{'class':'submenu'})[1]\n",
    "name_list_2\n",
    "\n",
    "pres_dict = {}\n",
    "for pres in name_list_2.find_all('a'):\n",
    "    pres_dict[pres.text] = pres['href']\n",
    "\n",
    "len(pres_dict)    \n",
    "\n",
    "pres_dict"
   ]
  },
  {
   "cell_type": "code",
   "execution_count": null,
   "metadata": {},
   "outputs": [],
   "source": [
    "#NEW attr that will create list and remove non-needed items\n",
    "def list_clean(l): # l is object with type 'bs4.element.Tag'\n",
    "    a = list(l.children)\n",
    "    a = [x for x in a if x != '\\n']\n",
    "    a.pop(0)\n",
    "    return a"
   ]
  },
  {
   "cell_type": "code",
   "execution_count": null,
   "metadata": {},
   "outputs": [],
   "source": [
    "data_presidents = {}\n",
    "i=1 \n",
    "\n",
    "for name,href in pres_dict.items():\n",
    "    html = \"\".join(['https://millercenter.org',href])\n",
    "    response = requests.get(html)\n",
    "    soup = BeautifulSoup(response.text,'html.parser')\n",
    "\n",
    "    #1 extraction of FAST FACTS dashboard of individual presidents\n",
    "    details = soup.find('div',{'class':'president-main-wrapper'}).find('div',{'class':'fast-facts-wrapper'})   \n",
    " \n",
    "    pres_details = {}\n",
    "    for det in list_clean(details):     \n",
    "        pres_details[det.label.text] = det.div.text\n",
    "        #print(det,det.div.text) \n",
    "        #print('*')\n",
    "        \n",
    "    #2 brief description of the president\n",
    "    pres_desc = {}\n",
    "    pres_desc['Description'] = soup.find('div',{'class':'copy-wrapper'}).p.text   \n",
    "    \n",
    "    #3 famous quote of the president\n",
    "    quote = {}\n",
    "    quote['Quote'] = soup.find('blockquote',{'class':'president-quote'}).contents[0]\n",
    "    \n",
    "    #4 number of KEY EVENTS that happened during office\n",
    "    key_events = soup.find('div',{'class':'sub-nav-region'}).find_all('a')[1]\n",
    "\n",
    "    html_1 = \"\".join(['https://millercenter.org',key_events['href']]) # getting into the list of key events of president \n",
    "    response_1 = requests.get(html_1)\n",
    "    soup_1 = BeautifulSoup(response_1.text,'html.parser')\n",
    "    ke_count = {}\n",
    "    #count of number of major events that happened during being in office - key events_count_X    \n",
    "    try: # D. Trump page has no information about major events hence we included error exception     \n",
    "        ke_c_1 = len(soup_1.find('div',{'class':'article-wysiwyg-body'}).find_all('strong')) \n",
    "        ke_c_2 = len(soup_1.find('div',{'class':'article-wysiwyg-body'}).find_all('b'))\n",
    "        ke_count['Number of major events'] = ke_c_1 + ke_c_2\n",
    "    except AttributeError:\n",
    "        ke_count['Number of major events'] = 0\n",
    "        pass\n",
    "    \n",
    "    data_presidents[name] = {**pres_details,**pres_desc,**quote,**ke_count} #merge of the dictionaries\n",
    "    print(i)\n",
    "    i=i+1\n",
    "    \n",
    "data_presidents"
   ]
  },
  {
   "cell_type": "code",
   "execution_count": null,
   "metadata": {},
   "outputs": [],
   "source": [
    "# Final table with data extracted from https://millercenter.org\n",
    "pd.DataFrame(data_presidents)"
   ]
  },
  {
   "cell_type": "code",
   "execution_count": null,
   "metadata": {},
   "outputs": [],
   "source": [
    "# TODO: manipulate the data here"
   ]
  },
  {
   "cell_type": "code",
   "execution_count": null,
   "metadata": {},
   "outputs": [],
   "source": [
    "# TODO: make the visualizations here"
   ]
  },
  {
   "cell_type": "code",
   "execution_count": null,
   "metadata": {},
   "outputs": [],
   "source": [
    "# TODO: conclude here?"
   ]
  }
 ],
 "metadata": {
  "kernelspec": {
   "display_name": "Python 3",
   "language": "python",
   "name": "python3"
  },
  "language_info": {
   "codemirror_mode": {
    "name": "ipython",
    "version": 3
   },
   "file_extension": ".py",
   "mimetype": "text/x-python",
   "name": "python",
   "nbconvert_exporter": "python",
   "pygments_lexer": "ipython3",
   "version": "3.7.1"
  }
 },
 "nbformat": 4,
 "nbformat_minor": 2
}
