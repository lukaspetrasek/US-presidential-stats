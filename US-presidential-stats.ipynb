{
 "cells": [
  {
   "cell_type": "markdown",
   "metadata": {},
   "source": [
    "# US presidential statistics\n",
    "## Simon Repko, Lukas Petrasek\n",
    "### IES FSS CU\n",
    "### 31.5.2019\n",
    "\n",
    "This notebook serves as a demonstration of a school project whose goal is to achieve the following:\n",
    "* scrape web pages to get historical data on US presidents\n",
    "* manipulate the data into a form suitable for being visualized\n",
    "* make vizualizations based the data"
   ]
  },
  {
   "cell_type": "code",
   "execution_count": null,
   "metadata": {},
   "outputs": [],
   "source": [
    "import sys\n",
    "\n",
    "import plotly\n",
    "\n",
    "sys.path.append('../')\n",
    "\n",
    "import manipulation\n",
    "import scraping\n",
    "import visualizations\n",
    "\n",
    "\n",
    "\n",
    "plotly.offline.init_notebook_mode(connected = True)"
   ]
  },
  {
   "cell_type": "code",
   "execution_count": null,
   "metadata": {},
   "outputs": [],
   "source": [
    "# initialiaze the scraping class for Miller Center\n",
    "miller_scrape = scraping.MillerScraper()\n",
    "\n",
    "# get the page subdirectories for each president\n",
    "miller_scrape.get_subdirectories()\n",
    "\n",
    "# get data on facts and characteristics (fast_facts), brief descriptions (descriptions), \n",
    "# famous quotes (famous_quotes), and counts of notable events happened during the \n",
    "# president's office (key_events_counts)\n",
    "miller_scrape.get_fast_facts()\n",
    "miller_scrape.get_descriptions()\n",
    "miller_scrape.get_famous_quotes()\n",
    "miller_scrape.get_key_events_counts()\n",
    "\n",
    "# correct Grover Cleveland's data which are flawed due to him serving two non-consecutive\n",
    "# terms\n",
    "miller_scrape.correct_Grover_Cleveland_data()"
   ]
  },
  {
   "cell_type": "code",
   "execution_count": null,
   "metadata": {},
   "outputs": [],
   "source": [
    "# initialiaze the scraping class for POTUS\n",
    "potus_scrape = scraping.PotusScraper()\n",
    "\n",
    "# get the page subdirectories for each president\n",
    "potus_scrape.get_subdirectories()\n",
    "\n",
    "# POTUS uses different formats for names of presidents and also has got some names wrong,\n",
    "# correct the names in subdirectories now so that salaries and election results are saved\n",
    "# under correct names\n",
    "potus_scrape.correct_subdirectories(miller_scrape)\n",
    "\n",
    "# get data on presidential salaries (salaries), and election results (election_results)\n",
    "potus_scrape.get_salaries()\n",
    "potus_scrape.get_election_results()\n",
    "\n",
    "# duplicate Grover Cleveland's salary for his second term, the salary was not recorded twice\n",
    "# because his two terms were not consecutive\n",
    "potus_scrape.duplicate_Grover_Cleveland_salary()"
   ]
  },
  {
   "cell_type": "code",
   "execution_count": null,
   "metadata": {},
   "outputs": [],
   "source": [
    "# merge the available data for presidents and elections\n",
    "all_presidents_data_df = manipulation.get_all_presidents_data_df(\n",
    "    miller_scrape = miller_scrape, \n",
    "    potus_scrape = potus_scrape\n",
    ")\n",
    "election_results_df = manipulation.get_election_results_df(potus_scrape)\n",
    "\n",
    "# clean presidents data\n",
    "all_presidents_data_df = manipulation.clean_presidents_data(all_presidents_data_df)\n",
    "# election_results_df do not need to be cleaned, they do not contain problematic values\n",
    "\n",
    "# convert values to appropriate types\n",
    "all_presidents_data_df = manipulation.convert_presidents_data(all_presidents_data_df)\n",
    "election_results_df = manipulation.convert_elections_data(election_results_df)\n",
    "\n",
    "# order presidents data\n",
    "all_presidents_data_df = manipulation.order_presidents_data(all_presidents_data_df)\n",
    "\n",
    "# correct indices in elections data\n",
    "election_results_df = manipulation.correct_elections_data_indices(\n",
    "    election_results_df, \n",
    "    all_presidents_data_df\n",
    ")\n",
    "\n",
    "# compute new features\n",
    "all_presidents_data_df = manipulation.compute_years_at_inauguration(all_presidents_data_df)\n",
    "all_presidents_data_df = manipulation.compute_locations(all_presidents_data_df)\n",
    "all_presidents_data_df = manipulation.compute_first_electoral_vote_share(\n",
    "    all_presidents_data_df, \n",
    "    election_results_df\n",
    ")\n",
    "all_presidents_data_df = manipulation.compute_number_of_children(all_presidents_data_df)"
   ]
  },
  {
   "cell_type": "code",
   "execution_count": null,
   "metadata": {},
   "outputs": [],
   "source": [
    "visualizations.plot_years_at_inauguration(all_presidents_data_df)"
   ]
  },
  {
   "cell_type": "code",
   "execution_count": null,
   "metadata": {},
   "outputs": [],
   "source": [
    "visualizations.plot_key_events_count(all_presidents_data_df)"
   ]
  },
  {
   "cell_type": "code",
   "execution_count": null,
   "metadata": {},
   "outputs": [],
   "source": [
    "visualizations.plot_years_at_inauguration_overlapping_histograms(all_presidents_data_df)"
   ]
  },
  {
   "cell_type": "code",
   "execution_count": null,
   "metadata": {},
   "outputs": [],
   "source": [
    "visualizations.plot_birth_places_and_paths_map(all_presidents_data_df)"
   ]
  },
  {
   "cell_type": "code",
   "execution_count": null,
   "metadata": {},
   "outputs": [],
   "source": [
    "visualizations.plot_vote_share_heatmap(all_presidents_data_df)"
   ]
  },
  {
   "cell_type": "code",
   "execution_count": null,
   "metadata": {},
   "outputs": [],
   "source": []
  }
 ],
 "metadata": {
  "kernelspec": {
   "display_name": "Python 3",
   "language": "python",
   "name": "python3"
  },
  "language_info": {
   "codemirror_mode": {
    "name": "ipython",
    "version": 3
   },
   "file_extension": ".py",
   "mimetype": "text/x-python",
   "name": "python",
   "nbconvert_exporter": "python",
   "pygments_lexer": "ipython3",
   "version": "3.7.3"
  }
 },
 "nbformat": 4,
 "nbformat_minor": 2
}
