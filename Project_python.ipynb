{
 "cells": [
  {
   "cell_type": "code",
   "execution_count": null,
   "metadata": {},
   "outputs": [],
   "source": [
    "#import scrapy\n",
    "\n",
    "\n",
    "#'/' #looks forward one generation\n",
    "#'//' # looks forward all generations\n",
    "#'html/body/*' #everything that 'body' contains\n",
    "\n",
    "#xpath = 'www.millercenter.org/president'\n",
    "\n",
    "\n",
    "#'//p[@class=\"menu-item menu-item--collapsed\"]'\n",
    "#'//*[@id=\"uid\"]'\n",
    "\n",
    "#xpath = '//p[1]'\n",
    "#how_many_elements( xpath )\n",
    "\n",
    "\n",
    "response = requests.get('https://millercenter.org/')\n",
    "soup = BeautifulSoup(response.text,'html.parser')\n",
    "name_list_1 = soup.find('nav',{'aria-labelledby':'block-mainnavigation-3-menu'})\n",
    "name_list_2 = name_list_1.find_all('ul',{'class':'submenu'})[1]\n",
    "name_list_2\n",
    "\n",
    "pres_dict = {}\n",
    "for pres in name_list_2.find_all('a'):\n",
    "    pres_dict[pres.text] = pres['href']\n",
    "\n",
    "len(pres_dict)    \n",
    "\n",
    "pres_dict\n"
   ]
  },
  {
   "cell_type": "code",
   "execution_count": null,
   "metadata": {},
   "outputs": [],
   "source": [
    "#NEW attr that will create list and remove non-needed items\n",
    "\n",
    "def list_clean(l): # l is object with type 'bs4.element.Tag'\n",
    "    a = list(l.children)\n",
    "    a = [x for x in a if x != '\\n']\n",
    "    a.pop(0)\n",
    "    return a"
   ]
  },
  {
   "cell_type": "code",
   "execution_count": null,
   "metadata": {},
   "outputs": [],
   "source": [
    "data_presidents = {}\n",
    "i=1 \n",
    "\n",
    "for name,href in pres_dict.items():\n",
    " html = \"\".join(['https://millercenter.org',href])\n",
    " response = requests.get(html)\n",
    " soup = BeautifulSoup(response.text,'html.parser')\n",
    "\n",
    " details = soup.find('div',{'class':'president-main-wrapper'}).find('div',{'class':'fast-facts-wrapper'})\n",
    "\n",
    "  # Description of the president\n",
    " pres_desc = {}\n",
    " pres_desc['Description'] = soup.find('div',{'class':'copy-wrapper'}).p.text   \n",
    "    \n",
    " pres_details = {}\n",
    " #for det in 1:(len(list_clean(details))+1):\n",
    " for det in list_clean(details):     \n",
    "     pres_details[det.label.text] = det.div.text\n",
    "     print(det,det.div.text) \n",
    "     print('*')\n",
    "       \n",
    " data_presidents[name] = {**pres_details,**pres_desc}\n",
    " print(i)\n",
    " i=i+1\n",
    "data_presidents"
   ]
  },
  {
   "cell_type": "code",
   "execution_count": null,
   "metadata": {},
   "outputs": [],
   "source": [
    "import pandas as pd\n",
    "pd.DataFrame(data_presidents)"
   ]
  },
  {
   "cell_type": "code",
   "execution_count": null,
   "metadata": {},
   "outputs": [],
   "source": [
    "###############################################################################################################################\n",
    "###############################################################################################################################\n",
    "###############################################################################################################################\n",
    "###############################################################################################################################\n",
    "list(details.children)"
   ]
  },
  {
   "cell_type": "code",
   "execution_count": null,
   "metadata": {},
   "outputs": [],
   "source": [
    "response = requests.get('https://millercenter.org/president/washington')\n",
    "soup = BeautifulSoup(response.text,'html.parser')\n",
    "print(soup.prettify())\n",
    "#name_list_1 = soup.find('nav',{'aria-labelledby':'block-mainnavigation-3-menu'})"
   ]
  },
  {
   "cell_type": "code",
   "execution_count": null,
   "metadata": {},
   "outputs": [],
   "source": [
    "# Description of the president\n",
    "#print(soup.find('div',{'class':'copy-wrapper'}).p.text)\n",
    "\n",
    "details = soup.find('div',{'class':'president-main-wrapper'}).find('div',{'class':'fast-facts-wrapper'})\n",
    "details"
   ]
  },
  {
   "cell_type": "code",
   "execution_count": null,
   "metadata": {},
   "outputs": [],
   "source": [
    "# AUXILIARY PART\n",
    "#dir(details)\n",
    "a = list(details.children)\n",
    "a = [x for x in a if x != '\\n']\n",
    "a.pop(0)\n",
    "a[1].div.contents"
   ]
  },
  {
   "cell_type": "code",
   "execution_count": null,
   "metadata": {},
   "outputs": [],
   "source": [
    "#dir(details)\n",
    "#a = list(details.children)\n",
    "#a = [x for x in a if x != '\\n']\n",
    "#a.pop(0)\n",
    "#a[1] # contains 15 elements\n",
    "\n",
    "\n",
    "pres_details = {}\n",
    "#for det in 1:(len(list_clean(details))+1):\n",
    "for det in list_clean(details):     \n",
    "    pres_details[det.label.text] = det.div.text\n",
    "        \n",
    "pres_details\n"
   ]
  },
  {
   "cell_type": "code",
   "execution_count": null,
   "metadata": {},
   "outputs": [],
   "source": [
    "##############################################################################################################################\n",
    "#for president in pres_dict.values():\n",
    "# html = \"\".join(['https://millercenter.org',president])\n",
    "# print(html)\n",
    "\n"
   ]
  },
  {
   "cell_type": "code",
   "execution_count": null,
   "metadata": {},
   "outputs": [],
   "source": [
    "# 'fromkeys', 'get', 'items', 'keys', 'pop', 'popitem', 'setdefault', 'update', 'values']\n",
    "#for det in pres_dict.keys():\n",
    "#    print(pres_dict.values())\n",
    "    \n",
    "for k,v in pres_dict.items():\n",
    "    print(v)"
   ]
  },
  {
   "cell_type": "code",
   "execution_count": null,
   "metadata": {},
   "outputs": [],
   "source": [
    "response = requests.get('https://millercenter.org/president/washington')\n",
    "soup = BeautifulSoup(response.text,'html.parser')\n",
    "\n",
    "details = soup.find('div',{'class':'sub-nav-region'})\n",
    "details\n",
    "\n",
    "pres_dict = {}\n",
    "for pres in name_list_2.find_all('a'):\n",
    "    pres_dict[pres.text] = pres['href']\n",
    "\n",
    "len(pres_dict)    \n",
    "\n",
    "pres_dict"
   ]
  }
 ],
 "metadata": {
  "kernelspec": {
   "display_name": "Python 3",
   "language": "python",
   "name": "python3"
  },
  "language_info": {
   "codemirror_mode": {
    "name": "ipython",
    "version": 3
   },
   "file_extension": ".py",
   "mimetype": "text/x-python",
   "name": "python",
   "nbconvert_exporter": "python",
   "pygments_lexer": "ipython3",
   "version": "3.7.1"
  }
 },
 "nbformat": 4,
 "nbformat_minor": 2
}
